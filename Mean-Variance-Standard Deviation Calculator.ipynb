{
 "cells": [
  {
   "cell_type": "markdown",
   "metadata": {},
   "source": [
    "<h1 >Mean-Variance-Standard Deviation Calculator </h1>\n",
    "\n",
    "This is the boilerplate for the Mean-Variance-Standard Deviation Calculator project. Instructions for building your project can be found at https://www.freecodecamp.org/learn/data-analysis-with-python/data-analysis-with-python-projects/mean-variance-standard-deviation-calculator"
   ]
  },
  {
   "cell_type": "markdown",
   "metadata": {},
   "source": [
    "<h3 >Instructions </h3>\n",
    "Create a function named calculate() in mean_var_std.py that uses Numpy to output the mean, variance, standard deviation, max, min, and sum of the rows, columns, and elements in a 3 x 3 matrix.\n",
    "\n",
    "The input of the function should be a list containing 9 digits. The function should convert the list into a 3 x 3 Numpy array, and then return a dictionary containing the mean, variance, standard deviation, max, min, and sum along both axes and for the flattened matrix.\n",
    "\n",
    "The returned dictionary should follow this format:"
   ]
  },
  {
   "cell_type": "code",
   "execution_count": null,
   "metadata": {},
   "outputs": [],
   "source": [
    "output = {\n",
    "  'mean': [axis1, axis2, flattened],\n",
    "  'variance': [axis1, axis2, flattened],\n",
    "  'standard deviation': [axis1, axis2, flattened],\n",
    "  'max': [axis1, axis2, flattened],\n",
    "  'min': [axis1, axis2, flattened],\n",
    "  'sum': [axis1, axis2, flattened]\n",
    "}"
   ]
  },
  {
   "cell_type": "markdown",
   "metadata": {},
   "source": [
    "<h3> Example </h3>\n",
    "If a list containing less than 9 elements is passed into the function, it should raise a ValueError exception with the message: \"List must contain nine numbers.\" The values in the returned dictionary should be lists and not Numpy arrays.\n",
    "\n",
    "For example, calculate([0,1,2,3,4,5,6,7,8]) should return:\n",
    "\n",
    "\n"
   ]
  },
  {
   "cell_type": "code",
   "execution_count": 3,
   "metadata": {},
   "outputs": [],
   "source": [
    "example = {\n",
    "  'mean': [[3.0, 4.0, 5.0], [1.0, 4.0, 7.0], 4.0],\n",
    "  'variance': [[6.0, 6.0, 6.0], [0.6666666666666666, 0.6666666666666666, 0.6666666666666666], 6.666666666666667],\n",
    "  'standard deviation': [[2.449489742783178, 2.449489742783178, 2.449489742783178], [0.816496580927726, 0.816496580927726, 0.816496580927726], 2.581988897471611],\n",
    "  'max': [[6, 7, 8], [2, 5, 8], 8],\n",
    "  'min': [[0, 1, 2], [0, 3, 6], 0],\n",
    "  'sum': [[9, 12, 15], [3, 12, 21], 36]\n",
    "}"
   ]
  },
  {
   "cell_type": "markdown",
   "metadata": {},
   "source": [
    "<h1> Solution </h1>"
   ]
  },
  {
   "cell_type": "code",
   "execution_count": 2,
   "metadata": {},
   "outputs": [],
   "source": [
    "import numpy as np"
   ]
  },
  {
   "cell_type": "code",
   "execution_count": 46,
   "metadata": {},
   "outputs": [
    {
     "ename": "ValueError",
     "evalue": "List must contain nine numbers.",
     "output_type": "error",
     "traceback": [
      "\u001b[1;31m---------------------------------------------------------------------------\u001b[0m",
      "\u001b[1;31mValueError\u001b[0m                                Traceback (most recent call last)",
      "Cell \u001b[1;32mIn[46], line 60\u001b[0m\n\u001b[0;32m     52\u001b[0m     output[\u001b[39m'\u001b[39m\u001b[39msum\u001b[39m\u001b[39m'\u001b[39m] \u001b[39m=\u001b[39m [np\u001b[39m.\u001b[39msum(matrix, axis\u001b[39m=\u001b[39m\u001b[39m0\u001b[39m)\u001b[39m.\u001b[39mtolist(), \n\u001b[0;32m     53\u001b[0m                      np\u001b[39m.\u001b[39msum(matrix, axis\u001b[39m=\u001b[39m\u001b[39m1\u001b[39m)\u001b[39m.\u001b[39mtolist(),\n\u001b[0;32m     54\u001b[0m                      np\u001b[39m.\u001b[39msum(imput_array)                   \n\u001b[0;32m     55\u001b[0m      ]\n\u001b[0;32m     58\u001b[0m     \u001b[39mreturn\u001b[39;00m output\n\u001b[1;32m---> 60\u001b[0m calculate(a)\n",
      "Cell \u001b[1;32mIn[46], line 11\u001b[0m, in \u001b[0;36mcalculate\u001b[1;34m(imput)\u001b[0m\n\u001b[0;32m      8\u001b[0m lenght \u001b[39m=\u001b[39m \u001b[39mlen\u001b[39m(imput)\n\u001b[0;32m     10\u001b[0m \u001b[39mif\u001b[39;00m lenght \u001b[39m!=\u001b[39m\u001b[39m9\u001b[39m :\n\u001b[1;32m---> 11\u001b[0m     \u001b[39mraise\u001b[39;00m  \u001b[39mValueError\u001b[39;00m(\u001b[39m\"\u001b[39m\u001b[39mList must contain nine numbers.\u001b[39m\u001b[39m\"\u001b[39m )\n\u001b[0;32m     12\u001b[0m \u001b[39mprint\u001b[39m(a)\n\u001b[0;32m     14\u001b[0m output \u001b[39m=\u001b[39m {\n\u001b[0;32m     15\u001b[0m     \u001b[39m'\u001b[39m\u001b[39mmean\u001b[39m\u001b[39m'\u001b[39m:[] ,\n\u001b[0;32m     16\u001b[0m     \u001b[39m'\u001b[39m\u001b[39mvariance\u001b[39m\u001b[39m'\u001b[39m:[] ,\n\u001b[1;32m   (...)\u001b[0m\n\u001b[0;32m     20\u001b[0m     \u001b[39m'\u001b[39m\u001b[39msum\u001b[39m\u001b[39m'\u001b[39m: []\n\u001b[0;32m     21\u001b[0m }\n",
      "\u001b[1;31mValueError\u001b[0m: List must contain nine numbers."
     ]
    }
   ],
   "source": [
    "#Definimos la funcion calculate\n",
    "\n",
    "\n",
    "a = [2,6,2,8,4,0,1,]\n",
    "\n",
    "def calculate(imput):\n",
    "\n",
    "    lenght = len(imput)\n",
    "\n",
    "    if lenght !=9 :\n",
    "        raise  ValueError(\"List must contain nine numbers.\" )\n",
    "    print(a)\n",
    "\n",
    "    output = {\n",
    "        'mean':[] ,\n",
    "        'variance':[] ,\n",
    "        'standard deviation': [],\n",
    "        'max': [],\n",
    "        'min':[] ,\n",
    "        'sum': []\n",
    "    }\n",
    "\n",
    "    imput_array = np.array(imput)\n",
    "\n",
    "    matrix = imput_array.copy().reshape([3,3])\n",
    "    \n",
    "    output['mean'] = [np.mean(matrix, axis=0).tolist(), \n",
    "                      np.mean(matrix, axis=1).tolist(),\n",
    "                      np.mean(imput_array)                   \n",
    "     ]\n",
    "\n",
    "    output['variance'] = [np.var(matrix, axis=0).tolist(), \n",
    "                          np.var(matrix, axis=1).tolist(),\n",
    "                          np.var(imput_array)                   \n",
    "     ]\n",
    "\n",
    "    output['standard deviation'] = [np.std(matrix, axis=0).tolist(), \n",
    "                                    np.std(matrix, axis=1).tolist(),\n",
    "                                    np.std(imput_array)                   \n",
    "     ]\n",
    "    \n",
    "    output['max'] = [np.max(matrix, axis=0).tolist(), \n",
    "                     np.max(matrix, axis=1).tolist(),\n",
    "                     np.max(imput_array)                   \n",
    "     ]\n",
    "\n",
    "    output['min'] = [np.min(matrix, axis=0).tolist(), \n",
    "                     np.min(matrix, axis=1).tolist(),\n",
    "                     np.min(imput_array)                   \n",
    "     ]\n",
    "\n",
    "    output['sum'] = [np.sum(matrix, axis=0).tolist(), \n",
    "                     np.sum(matrix, axis=1).tolist(),\n",
    "                     np.sum(imput_array)                   \n",
    "     ]\n",
    "    \n",
    "\n",
    "    return output\n",
    "\n",
    "calculate(a)\n"
   ]
  },
  {
   "cell_type": "code",
   "execution_count": null,
   "metadata": {},
   "outputs": [],
   "source": []
  }
 ],
 "metadata": {
  "kernelspec": {
   "display_name": "Python 3",
   "language": "python",
   "name": "python3"
  },
  "language_info": {
   "codemirror_mode": {
    "name": "ipython",
    "version": 3
   },
   "file_extension": ".py",
   "mimetype": "text/x-python",
   "name": "python",
   "nbconvert_exporter": "python",
   "pygments_lexer": "ipython3",
   "version": "3.9.13"
  },
  "orig_nbformat": 4
 },
 "nbformat": 4,
 "nbformat_minor": 2
}
